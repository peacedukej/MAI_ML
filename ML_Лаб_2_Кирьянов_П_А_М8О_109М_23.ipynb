{
  "nbformat": 4,
  "nbformat_minor": 0,
  "metadata": {
    "colab": {
      "provenance": []
    },
    "kernelspec": {
      "name": "python3",
      "display_name": "Python 3"
    },
    "language_info": {
      "name": "python"
    }
  },
  "cells": [
    {
      "cell_type": "markdown",
      "source": [
        "#Л.Р. #2 — Глобальная оптимизация и метаэврестические алгоритмы"
      ],
      "metadata": {
        "id": "8VPghirQALSX"
      }
    },
    {
      "cell_type": "markdown",
      "source": [
        "##В Pygmo запрограммировать две своих тестовых функции и найти их оптимум 3 разными алгоритмами доступными в библиотеке и получить таблицу сравнения"
      ],
      "metadata": {
        "id": "62nfgU8WANNr"
      }
    },
    {
      "cell_type": "code",
      "source": [
        "%pip install pygmo"
      ],
      "metadata": {
        "colab": {
          "base_uri": "https://localhost:8080/"
        },
        "id": "_eEnWwGZAP_N",
        "outputId": "1ff5d9a2-1e49-4da1-c596-c3192f862f66"
      },
      "execution_count": 1,
      "outputs": [
        {
          "output_type": "stream",
          "name": "stdout",
          "text": [
            "Collecting pygmo\n",
            "  Downloading pygmo-2.19.5-cp310-cp310-manylinux_2_28_x86_64.whl (14.7 MB)\n",
            "\u001b[2K     \u001b[90m━━━━━━━━━━━━━━━━━━━━━━━━━━━━━━━━━━━━━━━━\u001b[0m \u001b[32m14.7/14.7 MB\u001b[0m \u001b[31m36.5 MB/s\u001b[0m eta \u001b[36m0:00:00\u001b[0m\n",
            "\u001b[?25hRequirement already satisfied: numpy in /usr/local/lib/python3.10/dist-packages (from pygmo) (1.23.5)\n",
            "Requirement already satisfied: cloudpickle in /usr/local/lib/python3.10/dist-packages (from pygmo) (2.2.1)\n",
            "Requirement already satisfied: scipy in /usr/local/lib/python3.10/dist-packages (from pygmo) (1.11.4)\n",
            "Installing collected packages: pygmo\n",
            "Successfully installed pygmo-2.19.5\n"
          ]
        }
      ]
    },
    {
      "cell_type": "code",
      "source": [
        "import pygmo as pg\n",
        "import numpy as np\n",
        "\n",
        "class HimmelblauFunction:\n",
        "    def fitness(self, x):\n",
        "        return [(x[0]**2 + x[1] - 11)**2 + (x[0] + x[1]**2 - 7)**2]\n",
        "\n",
        "    def get_bounds(self):\n",
        "        return ([-10, -10], [10, 10])\n",
        "\n",
        "class BoothFunction:\n",
        "    def fitness(self, x):\n",
        "        return [(x[0] + 2*x[1] - 7)**2 + (2*x[0] + x[1] - 5)**2]\n",
        "\n",
        "    def get_bounds(self):\n",
        "        return ([-10, -10], [10, 10])"
      ],
      "metadata": {
        "id": "BF7RKM1MARge"
      },
      "execution_count": 4,
      "outputs": []
    },
    {
      "cell_type": "code",
      "source": [
        "def optimize_and_print(algorithm, problem):\n",
        "    prob = pg.problem(problem)\n",
        "    algo = pg.algorithm(algorithm(gen=100))\n",
        "\n",
        "    pop = pg.population(prob, size=10)\n",
        "    result = algo.evolve(pop)\n",
        "\n",
        "    best_solution = result.champion_x\n",
        "\n",
        "    print(f\"Алгоритм: {algorithm.__name__}, Функция: {problem.__class__.__name__}\")\n",
        "    print(f\"Лучшее решение: {best_solution}\")\n",
        "    print(f\"Значение функции: {problem.fitness(best_solution)[0]}\")\n",
        "    print(\"\\n\")"
      ],
      "metadata": {
        "id": "il3YhIw6ASni"
      },
      "execution_count": 5,
      "outputs": []
    },
    {
      "cell_type": "markdown",
      "source": [
        "Сравнение алгоритма дифференциальной эволюции (DE), алгоритма оптимизации роем частиц (PSO) и генетического алгоритма (SGA) для функции сферы:"
      ],
      "metadata": {
        "id": "EGCnoTNEAUP9"
      }
    },
    {
      "cell_type": "code",
      "execution_count": 6,
      "metadata": {
        "colab": {
          "base_uri": "https://localhost:8080/"
        },
        "id": "uhD6KzrrAFc8",
        "outputId": "5913c273-2b63-4a62-cc65-acb892bb510d"
      },
      "outputs": [
        {
          "output_type": "stream",
          "name": "stdout",
          "text": [
            "Алгоритм: de, Функция: HimmelblauFunction\n",
            "Лучшее решение: [-3.77930594 -3.28317813]\n",
            "Значение функции: 2.8517797387044738e-09\n",
            "\n",
            "\n",
            "Алгоритм: pso, Функция: HimmelblauFunction\n",
            "Лучшее решение: [-2.8050348  3.1312414]\n",
            "Значение функции: 4.2097198191148054e-07\n",
            "\n",
            "\n",
            "Алгоритм: sga, Функция: HimmelblauFunction\n",
            "Лучшее решение: [-2.77871138  2.85870878]\n",
            "Значение функции: 2.7572732941969753\n",
            "\n",
            "\n"
          ]
        }
      ],
      "source": [
        "# Сравнение для функции сферы\n",
        "himmelblau_problem = HimmelblauFunction()\n",
        "optimize_and_print(pg.de, himmelblau_problem)\n",
        "optimize_and_print(pg.pso, himmelblau_problem)\n",
        "optimize_and_print(pg.sga, himmelblau_problem)"
      ]
    },
    {
      "cell_type": "markdown",
      "source": [
        "Сравнение алгоритма дифференциальной эволюции (DE), алгоритма оптимизации роем частиц (PSO) и генетического алгоритма (SGA) для функции Бута:"
      ],
      "metadata": {
        "id": "Gz6ZYEt7AW9X"
      }
    },
    {
      "cell_type": "code",
      "source": [
        "# Сравнение для функции Бута\n",
        "booth_problem = BoothFunction()\n",
        "optimize_and_print(pg.de, booth_problem)\n",
        "optimize_and_print(pg.pso, booth_problem)\n",
        "optimize_and_print(pg.sga, booth_problem)"
      ],
      "metadata": {
        "colab": {
          "base_uri": "https://localhost:8080/"
        },
        "id": "6kwcNKTSAYgO",
        "outputId": "dd1af6cf-9c0c-47d8-f7d7-690304d125ac"
      },
      "execution_count": 7,
      "outputs": [
        {
          "output_type": "stream",
          "name": "stdout",
          "text": [
            "Алгоритм: de, Функция: BoothFunction\n",
            "Лучшее решение: [0.99993805 3.00017377]\n",
            "Значение функции: 8.404810390950319e-08\n",
            "\n",
            "\n",
            "Алгоритм: pso, Функция: BoothFunction\n",
            "Лучшее решение: [1.00003888 2.99957734]\n",
            "Значение функции: 7.692931545782275e-07\n",
            "\n",
            "\n",
            "Алгоритм: sga, Функция: BoothFunction\n",
            "Лучшее решение: [-1.04429837  5.00175281]\n",
            "Значение функции: 8.193410652702955\n",
            "\n",
            "\n"
          ]
        }
      ]
    }
  ]
}